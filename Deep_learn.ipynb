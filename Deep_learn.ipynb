{
 "cells": [
  {
   "cell_type": "code",
   "execution_count": 71,
   "metadata": {},
   "outputs": [],
   "source": [
    "\n",
    "import tensorflow\n",
    "import keras\n",
    "import pandas as pd\n",
    "import numpy as np\n",
    "from tensorflow.keras.models import Sequential\n",
    "from tensorflow.keras import layers\n",
    "from tensorflow.keras.layers import Dense\n",
    "from tensorflow.keras.optimizers import Adam\n",
    "import csv\n",
    "import numpy as np\n",
    "import time\n"
   ]
  },
  {
   "cell_type": "code",
   "execution_count": 72,
   "metadata": {},
   "outputs": [
    {
     "data": {
      "text/html": [
       "<div>\n",
       "<style scoped>\n",
       "    .dataframe tbody tr th:only-of-type {\n",
       "        vertical-align: middle;\n",
       "    }\n",
       "\n",
       "    .dataframe tbody tr th {\n",
       "        vertical-align: top;\n",
       "    }\n",
       "\n",
       "    .dataframe thead th {\n",
       "        text-align: right;\n",
       "    }\n",
       "</style>\n",
       "<table border=\"1\" class=\"dataframe\">\n",
       "  <thead>\n",
       "    <tr style=\"text-align: right;\">\n",
       "      <th></th>\n",
       "      <th>colx</th>\n",
       "      <th>Unnamed: 1</th>\n",
       "      <th>colx 4</th>\n",
       "      <th>colx 6</th>\n",
       "      <th>colx 7</th>\n",
       "      <th>colx 8</th>\n",
       "      <th>colx 9</th>\n",
       "      <th>colx 10</th>\n",
       "      <th>colx 11</th>\n",
       "      <th>colx 12</th>\n",
       "      <th>data</th>\n",
       "      <th>year</th>\n",
       "      <th>month</th>\n",
       "      <th>day</th>\n",
       "    </tr>\n",
       "  </thead>\n",
       "  <tbody>\n",
       "    <tr>\n",
       "      <th>0</th>\n",
       "      <td>16</td>\n",
       "      <td>NaN</td>\n",
       "      <td>2567</td>\n",
       "      <td>518504</td>\n",
       "      <td>4</td>\n",
       "      <td>504</td>\n",
       "      <td>31</td>\n",
       "      <td>426 447</td>\n",
       "      <td>16.0</td>\n",
       "      <td>428.0</td>\n",
       "      <td>2024 06 16</td>\n",
       "      <td>2024</td>\n",
       "      <td>6</td>\n",
       "      <td>16</td>\n",
       "    </tr>\n",
       "    <tr>\n",
       "      <th>1</th>\n",
       "      <td>1</td>\n",
       "      <td>NaN</td>\n",
       "      <td>2567</td>\n",
       "      <td>530593</td>\n",
       "      <td>93</td>\n",
       "      <td>593</td>\n",
       "      <td>42</td>\n",
       "      <td>421 734</td>\n",
       "      <td>194.0</td>\n",
       "      <td>364.0</td>\n",
       "      <td>2024 06 01</td>\n",
       "      <td>2024</td>\n",
       "      <td>6</td>\n",
       "      <td>1</td>\n",
       "    </tr>\n",
       "    <tr>\n",
       "      <th>2</th>\n",
       "      <td>16</td>\n",
       "      <td>NaN</td>\n",
       "      <td>2567</td>\n",
       "      <td>205690</td>\n",
       "      <td>90</td>\n",
       "      <td>690</td>\n",
       "      <td>60</td>\n",
       "      <td>070 137</td>\n",
       "      <td>747.0</td>\n",
       "      <td>885.0</td>\n",
       "      <td>2024 05 16</td>\n",
       "      <td>2024</td>\n",
       "      <td>5</td>\n",
       "      <td>16</td>\n",
       "    </tr>\n",
       "    <tr>\n",
       "      <th>3</th>\n",
       "      <td>2</td>\n",
       "      <td>NaN</td>\n",
       "      <td>2567</td>\n",
       "      <td>980116</td>\n",
       "      <td>16</td>\n",
       "      <td>116</td>\n",
       "      <td>17</td>\n",
       "      <td>634 833</td>\n",
       "      <td>104.0</td>\n",
       "      <td>763.0</td>\n",
       "      <td>2024 05 02</td>\n",
       "      <td>2024</td>\n",
       "      <td>5</td>\n",
       "      <td>2</td>\n",
       "    </tr>\n",
       "    <tr>\n",
       "      <th>4</th>\n",
       "      <td>16</td>\n",
       "      <td>NaN</td>\n",
       "      <td>2567</td>\n",
       "      <td>943598</td>\n",
       "      <td>98</td>\n",
       "      <td>598</td>\n",
       "      <td>79</td>\n",
       "      <td>154 200</td>\n",
       "      <td>727.0</td>\n",
       "      <td>729.0</td>\n",
       "      <td>2024 04 16</td>\n",
       "      <td>2024</td>\n",
       "      <td>4</td>\n",
       "      <td>16</td>\n",
       "    </tr>\n",
       "  </tbody>\n",
       "</table>\n",
       "</div>"
      ],
      "text/plain": [
       "   colx  Unnamed: 1  colx 4  colx 6  colx 7  colx 8  colx 9  colx 10  colx 11  \\\n",
       "0    16         NaN    2567  518504       4     504      31  426 447     16.0   \n",
       "1     1         NaN    2567  530593      93     593      42  421 734    194.0   \n",
       "2    16         NaN    2567  205690      90     690      60  070 137    747.0   \n",
       "3     2         NaN    2567  980116      16     116      17  634 833    104.0   \n",
       "4    16         NaN    2567  943598      98     598      79  154 200    727.0   \n",
       "\n",
       "   colx 12        data  year  month  day  \n",
       "0    428.0  2024 06 16  2024      6   16  \n",
       "1    364.0  2024 06 01  2024      6    1  \n",
       "2    885.0  2024 05 16  2024      5   16  \n",
       "3    763.0  2024 05 02  2024      5    2  \n",
       "4    729.0  2024 04 16  2024      4   16  "
      ]
     },
     "execution_count": 72,
     "metadata": {},
     "output_type": "execute_result"
    }
   ],
   "source": [
    "data_train = pd.read_csv(\"data_train.csv\",dtype={'colx': int})\n",
    "data_train[['year', 'month', 'day']] = data_train['data'].str.split(' ', expand=True).astype(int)\n",
    "\n",
    "data_train.head()"
   ]
  },
  {
   "cell_type": "code",
   "execution_count": 73,
   "metadata": {},
   "outputs": [
    {
     "name": "stderr",
     "output_type": "stream",
     "text": [
      "C:\\Users\\window_goat\\AppData\\Local\\Temp\\ipykernel_5300\\3531496405.py:4: RuntimeWarning: invalid value encountered in cast\n",
      "  first_3 = first_3.astype(int)\n"
     ]
    }
   ],
   "source": [
    "\n",
    "X = data_train[['year', 'month', 'day']].values  # Replace 'feature1', 'feature2', 'feature3' with your actual feature column names\n",
    "six = data_train['colx 6'].values  # Replace 'target' with your actual target column name\n",
    "first_3 = data_train[[\"colx 12\"]].values\n",
    "first_3 = first_3.astype(int)\n",
    "two = data_train[[\"colx 9\"]].values\n",
    "two = two.astype(int)\n",
    "X = X / np.max(X, axis=0)\n",
    "first_3 = first_3 / np.max(first_3)\n",
    "two = two / np.max(two)\n"
   ]
  },
  {
   "cell_type": "code",
   "execution_count": 76,
   "metadata": {},
   "outputs": [
    {
     "name": "stdout",
     "output_type": "stream",
     "text": [
      "wait for train is comple so just wait ......\n",
      "why so long\n"
     ]
    },
    {
     "name": "stderr",
     "output_type": "stream",
     "text": [
      "WARNING:absl:You are saving your model as an HDF5 file via `model.save()` or `keras.saving.save_model(model)`. This file format is considered legacy. We recommend using instead the native Keras format, e.g. `model.save('my_model.keras')` or `keras.saving.save_model(model, 'my_model.keras')`. \n"
     ]
    },
    {
     "name": "stdout",
     "output_type": "stream",
     "text": [
      "\u001b[1m1/1\u001b[0m \u001b[32m━━━━━━━━━━━━━━━━━━━━\u001b[0m\u001b[37m\u001b[0m \u001b[1m0s\u001b[0m 35ms/step\n",
      "\n",
      "First: 258883200\n"
     ]
    },
    {
     "name": "stderr",
     "output_type": "stream",
     "text": [
      "WARNING:absl:You are saving your model as an HDF5 file via `model.save()` or `keras.saving.save_model(model)`. This file format is considered legacy. We recommend using instead the native Keras format, e.g. `model.save('my_model.keras')` or `keras.saving.save_model(model, 'my_model.keras')`. \n"
     ]
    },
    {
     "name": "stdout",
     "output_type": "stream",
     "text": [
      "\u001b[1m1/1\u001b[0m \u001b[32m━━━━━━━━━━━━━━━━━━━━\u001b[0m\u001b[37m\u001b[0m \u001b[1m0s\u001b[0m 44ms/step\n",
      "\n",
      "first_3: -325245088\n"
     ]
    },
    {
     "name": "stderr",
     "output_type": "stream",
     "text": [
      "WARNING:absl:You are saving your model as an HDF5 file via `model.save()` or `keras.saving.save_model(model)`. This file format is considered legacy. We recommend using instead the native Keras format, e.g. `model.save('my_model.keras')` or `keras.saving.save_model(model, 'my_model.keras')`. \n"
     ]
    },
    {
     "name": "stdout",
     "output_type": "stream",
     "text": [
      "\u001b[1m1/1\u001b[0m \u001b[32m━━━━━━━━━━━━━━━━━━━━\u001b[0m\u001b[37m\u001b[0m \u001b[1m0s\u001b[0m 45ms/step\n",
      "\n",
      "two: 001887\n",
      "==========================================================\n"
     ]
    }
   ],
   "source": [
    "def predictLotto(d, m, y, data1, data2):\n",
    "    # Create a Sequential model\n",
    "    train_model = Sequential([\n",
    "    Dense(64, activation='relu'),\n",
    "    Dense(64, activation='relu'),\n",
    "    Dense(1)  # Assuming the target variable is a single continuous value\n",
    "    ])\n",
    "\n",
    "    #train_model = Sequential([Dense(units=1, input_shape=(3,), activation=None)])\n",
    "    \n",
    "    normalize = layers.Normalization()\n",
    "    normalize.adapt(X)\n",
    "    optimizer = Adam(learning_rate=0.001, clipvalue=1.0)\n",
    "    # Compile the model\n",
    "    train_model.compile(optimizer=optimizer, loss='mean_squared_error',metrics=['accuracy'])\n",
    "    \n",
    "    # Train the model\n",
    "    train_model.fit(data1, data2, epochs=roun,batch_size=batch_siz, verbose=0)  # Assuming data1 contains input features and data2 contains target labels\n",
    "    train_model.save(\"model.h5\")\n",
    "    # Make predictions\n",
    "    predict = train_model.predict(np.array([[d, m, y]]))\n",
    "    return predict[0]\n",
    "    \n",
    "\n",
    "\n",
    "# Load data from CSV file\n",
    "\n",
    "# Example usage\n",
    "iD = int(input(\"Day: \"))\n",
    "iM = int(input(\"Month: \"))\n",
    "iY = int(input(\"Year: \"))\n",
    "roun  = int(input(\"round train do you want :\"))\n",
    "batch_siz= int(input(\"what batch_sizp do you want :\"))\n",
    "print(\"wait for train is comple so just wait ......\")\n",
    "T_L = time.time()\n",
    "if T_L > 1000:\n",
    "    print(\"why so long\")\n",
    "print(\"\\nFirst: %06d\" % predictLotto(iD, iM, iY, X, six)[0])\n",
    "print(\"\\nfirst_3: %06d\" % predictLotto(iD, iM, iY, X, first_3)[0])\n",
    "print(\"\\ntwo: %06d\" % predictLotto(iD, iM, iY, X, two)[0])\n",
    "print(\"==========================================================\")\n"
   ]
  },
  {
   "cell_type": "code",
   "execution_count": null,
   "metadata": {},
   "outputs": [],
   "source": []
  },
  {
   "cell_type": "code",
   "execution_count": 74,
   "metadata": {},
   "outputs": [
    {
     "name": "stdout",
     "output_type": "stream",
     "text": [
      "Elapsed time: 0.03 seconds\n"
     ]
    }
   ],
   "source": [
    "import time\n",
    "\n",
    "# Record the start time\n",
    "start_time = time.time()\n",
    "\n",
    "# Your code to be measured\n",
    "# For example:\n",
    "for i in range(1000000):\n",
    "    pass  # Replace with your actual code\n",
    "\n",
    "# Record the end time\n",
    "end_time = time.time()\n",
    "\n",
    "# Calculate the elapsed time\n",
    "elapsed_time = end_time - start_time\n",
    "\n",
    "print(f\"Elapsed time: {elapsed_time:.2f} seconds\")\n"
   ]
  }
 ],
 "metadata": {
  "kernelspec": {
   "display_name": "Python 3",
   "language": "python",
   "name": "python3"
  },
  "language_info": {
   "codemirror_mode": {
    "name": "ipython",
    "version": 3
   },
   "file_extension": ".py",
   "mimetype": "text/x-python",
   "name": "python",
   "nbconvert_exporter": "python",
   "pygments_lexer": "ipython3",
   "version": "3.12.3"
  }
 },
 "nbformat": 4,
 "nbformat_minor": 2
}
